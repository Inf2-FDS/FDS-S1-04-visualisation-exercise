{
 "cells": [
  {
   "cell_type": "markdown",
   "metadata": {
    "editable": true,
    "slideshow": {
     "slide_type": ""
    },
    "tags": []
   },
   "source": [
    "<span style=\"display: none\">\n",
    "\\setcounter{secnumdepth}{0}\n",
    "    \n",
    "\\newcommand{\\answerbox}[1][5]{\n",
    "  \\noindent\\hskip -0.025\\linewidth\\framebox[1.05\\linewidth]{\\vbox to #1\\baselineskip{}}\n",
    "\n",
    "  \\vspace{-#1\\baselineskip}\n",
    "\n",
    "\\vspace{-\\baselineskip}}\n",
    "</span>"
   ]
  },
  {
   "cell_type": "markdown",
   "metadata": {
    "editable": true,
    "slideshow": {
     "slide_type": ""
    },
    "tags": []
   },
   "source": [
    "# Inf2-FDS S1 Week 4 Formative visualisation exercise \n",
    "\n",
    "This purpose of this exercise is to give you feedback on how you are doing on visualisation before we release Coursework 1 (CW1), which contains a strong visualisation component. It should also help you to learn how to submit the assignment Gradescope.  **This exercise is not for credit**.\n",
    "\n",
    "We recommend that you do this exercise in your lab session, and expect that it should take about an hour, assuming you've done the labs so far.\n",
    "\n",
    "We will mark submissions received by the deadline of  **Friday 11 October, 16:00** by the end of Week 5, before we release CW1. \n",
    "\n",
    "We will also accept late submissions until **Friday 18 October, 16:00**. There are no penalties for late submissions, but we cannot guarantee that we will mark late submissions before the start of CW1.\n",
    "\n",
    "## Good Scholarly Practice \n",
    "\n",
    "Because this work is not for credit, the guidance on good scholarly conduct for assessed work does not apply; you can collaborate with other students and share ideas publicly on Piazza.\n",
    "\n",
    "Please remember that for Coursework 1 (to be released in S1 Week 6), the University's guidance on good scholarly conduct will apply: [http://web.inf.ed.ac.uk/infweb/admin/policies/academic-misconduct](http://web.inf.ed.ac.uk/infweb/admin/policies/academic-misconduct)\n",
    "\n",
    "## Assessment information and criteria\n",
    "\n",
    "- This coursework counts for **0%** of the marks of Foundations of Data Science. **It is not for credit.**\n",
    "\n",
    "- It is marked based on the PDF export from a Jupyter notebook (see __General instructions__ below), which you are to submit via Gradescope (see __Assessment->S1 Week 4 Formative visualisation exercise__ folder in Learn).\n",
    "\n",
    "- The assignment is marked out of 30 and the number of points is indicated by each question. \n",
    "\n",
    "- We will assess your work on the following criteria:\n",
    "    \n",
    "  - the quality of the visualisations, measured against the _Visualisation principles and guidance_ handout used in the [S1 Week 5 workshop](https://opencourse.inf.ed.ac.uk/inf2-fds/course-materials/semester-1/week-5/workshop) \n",
    "  \n",
    "  - the quality of your textual comments - as measured by how accurate, clear, complete and insightful they are.\n",
    "\n",
    "## General instructions\n",
    "\n",
    "- Read the instructions carefully, answering what is required and only that.\n",
    "\n",
    "- Make sure you are running a Jupyter Notebook that saves PDFs in the correct way, via LaTeX -- [using Noteable with the instructions here works](https://github.com/Inf2-FDS/FDS-S1-04-visualisation-exercise/blob/main/README.md).\n",
    "\n",
    "- Fill in your answers in the cells indicated. You may delete text like \"Your answer to Q1.2 goes here\". __Do not edit or delete any other cells.__\n",
    "\n",
    "- Keep your answers brief and concise.\n",
    "\n",
    "- For answers involving visualisations, make sure to label them clearly and provide legends where necessary. \n",
    "\n",
    "- Once you have finished a question, use a Jupyter notebook server to export your PDF, by selecting __File->Download as->PDF via LaTeX (.pdf)__.\n",
    "\n",
    "- Check this PDF document looks as you expect it to. If changes are needed, update the notebook and export again.\n",
    "\n",
    "- Once you have finished all the questions, submit the final PDF using the submission instructions in the __Assessment->S1 Week 4 Formative visualisation__ folder in Learn. __Please allow enough time to upload your PDF before the deadline.__"
   ]
  },
  {
   "cell_type": "code",
   "execution_count": null,
   "metadata": {
    "deletable": true
   },
   "outputs": [],
   "source": [
    "# Imports - run this cell first, and add your own imports here.\n",
    "# You can use any package you want, but we suggest you stick to ones used in the labs\n",
    "import pandas as pd\n",
    "import matplotlib.pyplot as plt\n",
    "import matplotlib\n",
    "import seaborn as sns\n",
    "matplotlib.rcParams['figure.dpi'] = 150 # Make figures have reasonable resolution when exporting"
   ]
  },
  {
   "cell_type": "markdown",
   "metadata": {
    "editable": true
   },
   "source": [
    "# Question 1 (30 points) - Identifying and correcting bad visualisation practices\n",
    "\n",
    "Designing a good visualisation can be time-consuming, but is important for clear communication. We will ask you to identify and correct bad visualisation practices.  (Note that we'd like you to continue using good visualisation practices in Coursework 1 too!)  \n",
    "\n",
    "The code in the cell below sets up a small data frame that relates cities, the population density of the city, the number of universities in the city and the percentage of the population that commutes by bicycle in the city. "
   ]
  },
  {
   "cell_type": "code",
   "execution_count": null,
   "metadata": {
    "editable": true
   },
   "outputs": [],
   "source": [
    "# This dataframe holds the data. The columns explain the values.\n",
    "data = pd.DataFrame(columns=['City', \n",
    "                              'pop. density [k/km^2]', \n",
    "                              '# universities',\n",
    "                              '% commuting by bike'])\n",
    "data.loc[0] = ['London', 5.701, 40, 3.62]\n",
    "data.loc[1] = ['Edinburgh', 1.830, 6, 4.3]\n",
    "data.loc[2] = ['Glasgow', 3.400, 5, 1.31]\n",
    "\n",
    "data"
   ]
  },
  {
   "cell_type": "markdown",
   "metadata": {
    "editable": true
   },
   "source": [
    "The next cell contains code for a plot that is an example of bad visualisation practice. It shows the population density in 1000s per km$^2$ ($x=0$), the number of universities ($x=1$) and the percentage of people commuting by bicycle ($x=2$)  London (red), Edinburgh (green) and Glasgow (yellow)."
   ]
  },
  {
   "cell_type": "code",
   "execution_count": null,
   "metadata": {
    "editable": true
   },
   "outputs": [],
   "source": [
    "# This is the figure for you to improve on. \n",
    "fig, ax1 = plt.subplots(figsize=(20, 20))\n",
    "ax1.plot(list(data.iloc[0])[1:], color='r')\n",
    "ax1.plot(list(data.iloc[1])[1:], color='g')\n",
    "ax1.plot(list(data.iloc[2])[1:], color='y')"
   ]
  },
  {
   "cell_type": "markdown",
   "metadata": {
    "editable": true
   },
   "source": [
    "<span style=\"display: none\">\\newpage</span>\n",
    "\n",
    "## Question 1.1 (10 points)\n",
    "\n",
    "Run the code above to produce the visualisation.\n",
    "\n",
    "Export this file to PDF by choosing **File -> Save and Export Notebook as... -> PDF\"**. \n",
    "\n",
    "List as many problems as you can with this visualisation and what you would do to fix them. For each problem, you should include:\n",
    "- which one of the 5 principles in the [_Visualisation principles and guidance_ handout](https://opencourse.inf.ed.ac.uk/inf2-fds/course-materials/semester-1/week-5/workshop) is broken\n",
    "- the reason why the plot breaks that principle\n",
    "- how you would change the plot to fix this problem (this may be obvious, in which case you don't need to say much)\n",
    "\n",
    "You should be able to list at least 7 changes, and you will score 1 point for each problem correctly identified with a principle, and an extra point for suggested fixes, if they are not obvious ones. If you do not identify the connection between the principle and the reason the visualisation breaks the principle, you will score 0 marks.\n",
    "\n",
    "Please make sure that your answer is no longer than 20 lines, i.e. stays in the box in the PDF file you have produced from this notebook. You can delete the text saying \"Your answer for Q1.1 goes here. Please use the format below and delete this line\".\n",
    "\n",
    "<span style=\"display: none\">\\answerbox[20]{}</span>"
   ]
  },
  {
   "cell_type": "markdown",
   "metadata": {},
   "source": [
    "Your answer for Q1.1 goes here. Please use the format below and delete this line.\n",
    "\n",
    "1. < Name of principle>: <Reason the principle is violated.>. <What you would fix.>\n",
    "2. < Name of principle>: <Reason the principle is violated.>. <What you would fix.>\n",
    "3. ..."
   ]
  },
  {
   "cell_type": "markdown",
   "metadata": {
    "editable": true
   },
   "source": [
    "<span style=\"display: none\">\\newpage</span>\n",
    "\n",
    "## Question 1.2 (10 points)\n",
    "\n",
    "Now make an improved version of the plot, so someone presented with it could easily interpret it. There are at least five changes you can make to improve it. Remember that when you export  this notebook to a PDF, it will have a text width of 6 inches."
   ]
  },
  {
   "cell_type": "code",
   "execution_count": null,
   "metadata": {},
   "outputs": [],
   "source": [
    "# Your code for Q1.2 goes here"
   ]
  },
  {
   "cell_type": "markdown",
   "metadata": {
    "editable": true
   },
   "source": [
    "<span style=\"display: none\">\\newpage</span>\n",
    "\n",
    "## Question 1.3 (10 points)\n",
    "\n",
    "Explain your reasoning behind your visualisation design choice and summarise its pros and cons.\n",
    "\n",
    "Interpret your improved visualisation, i.e. write a short description of what it shows. You might imagine that you're trying to describe it on a podcast, where you can't show the data!\n",
    "\n",
    "Please make sure that your answer is no longer than 20 lines, i.e. stays in the box in the PDF file you have produced from this notebook. You can delete the text saying \"Your answer goes here\".\n",
    "\n",
    "<span style=\"display: none\">\\answerbox[20]{}</span>"
   ]
  },
  {
   "cell_type": "markdown",
   "metadata": {
    "deletable": true
   },
   "source": [
    "**Reasons for visualisation design and pros and cons:**\n",
    "\n",
    "**Interpretation:**  "
   ]
  }
 ],
 "metadata": {
  "celltoolbar": "Edit Metadata",
  "deepnote": {
   "is_reactive": false
  },
  "deepnote_execution_queue": [],
  "deepnote_notebook_id": "3669a0bc-e82c-4d6a-be64-b70117ad1d2f",
  "kernelspec": {
   "display_name": "Python 3 (ipykernel)",
   "language": "python",
   "name": "python3"
  },
  "language_info": {
   "codemirror_mode": {
    "name": "ipython",
    "version": 3
   },
   "file_extension": ".py",
   "mimetype": "text/x-python",
   "name": "python",
   "nbconvert_exporter": "python",
   "pygments_lexer": "ipython3",
   "version": "3.9.17"
  },
  "title": "Inf2 - Foundations of Data Science 2021-22"
 },
 "nbformat": 4,
 "nbformat_minor": 4
}
